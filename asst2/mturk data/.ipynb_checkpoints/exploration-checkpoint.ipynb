{
 "metadata": {
  "name": ""
 },
 "nbformat": 3,
 "nbformat_minor": 0,
 "worksheets": [
  {
   "cells": [
    {
     "cell_type": "code",
     "collapsed": false,
     "input": [
      "%matplotlib inline\n",
      "\n",
      "import json\n",
      "\n",
      "import requests\n",
      "import pandas as pd\n",
      "import numpy as np\n",
      "import matplotlib.pyplot as plt\n",
      "\n",
      "pd.set_option('display.width', 500)\n",
      "pd.set_option('display.max_columns', 30)\n",
      "\n",
      "# set some nicer defaults for matplotlib\n",
      "from matplotlib import rcParams\n",
      "\n",
      "#these colors come from colorbrewer2.org. Each is an RGB triplet\n",
      "dark2_colors = [(0.10588235294117647, 0.6196078431372549, 0.4666666666666667),\n",
      "                (0.8509803921568627, 0.37254901960784315, 0.00784313725490196),\n",
      "                (0.4588235294117647, 0.4392156862745098, 0.7019607843137254),\n",
      "                (0.9058823529411765, 0.1607843137254902, 0.5411764705882353),\n",
      "                (0.4, 0.6509803921568628, 0.11764705882352941),\n",
      "                (0.9019607843137255, 0.6705882352941176, 0.00784313725490196),\n",
      "                (0.6509803921568628, 0.4627450980392157, 0.11372549019607843),\n",
      "                (0.4, 0.4, 0.4)]\n",
      "\n",
      "rcParams['figure.figsize'] = (10, 6)\n",
      "rcParams['figure.dpi'] = 150\n",
      "rcParams['axes.color_cycle'] = dark2_colors\n",
      "rcParams['lines.linewidth'] = 2\n",
      "rcParams['axes.grid'] = False\n",
      "rcParams['axes.facecolor'] = 'white'\n",
      "rcParams['font.size'] = 14\n",
      "rcParams['patch.edgecolor'] = 'none'\n",
      "\n",
      "\n",
      "def remove_border(axes=None, top=False, right=False, left=True, bottom=True):\n",
      "    \"\"\"\n",
      "    Minimize chartjunk by stripping out unnecesary plot borders and axis ticks\n",
      "    \n",
      "    The top/right/left/bottom keywords toggle whether the corresponding plot border is drawn\n",
      "    \"\"\"\n",
      "    ax = axes or plt.gca()\n",
      "    ax.spines['top'].set_visible(top)\n",
      "    ax.spines['right'].set_visible(right)\n",
      "    ax.spines['left'].set_visible(left)\n",
      "    ax.spines['bottom'].set_visible(bottom)\n",
      "    \n",
      "    #turn off all ticks\n",
      "    ax.yaxis.set_ticks_position('none')\n",
      "    ax.xaxis.set_ticks_position('none')\n",
      "    \n",
      "    #now re-enable visibles\n",
      "    if top:\n",
      "        ax.xaxis.tick_top()\n",
      "    if bottom:\n",
      "        ax.xaxis.tick_bottom()\n",
      "    if left:\n",
      "        ax.yaxis.tick_left()\n",
      "    if right:\n",
      "        ax.yaxis.tick_right()"
     ],
     "language": "python",
     "metadata": {},
     "outputs": [],
     "prompt_number": 102
    },
    {
     "cell_type": "code",
     "collapsed": false,
     "input": [
      "def read_csv(file_path):\n",
      "    return pd.read_csv(file_path)"
     ],
     "language": "python",
     "metadata": {},
     "outputs": [],
     "prompt_number": 103
    },
    {
     "cell_type": "code",
     "collapsed": false,
     "input": [
      "mturk_data = read_csv('mturk_data.csv')\n",
      "print mturk_data.head()\n",
      "print list(mturk_data.columns.values)"
     ],
     "language": "python",
     "metadata": {},
     "outputs": [
      {
       "output_type": "stream",
       "stream": "stdout",
       "text": [
        "   participant_id  interfaceId  interfaceOrder001  interfaceOrder002  setId  setOrder001  setOrder002  phaseId sameParent    time correct\n",
        "0               1            0                  0                  1      0            0            1        0      False   18247    True\n",
        "1               1            0                  0                  1      0            0            1        0      False   49240    True\n",
        "2               1            0                  0                  1      0            0            1        0      False  217605   False\n",
        "3               1            0                  0                  1      0            0            1        0       True   13449   False\n",
        "4               1            0                  0                  1      0            0            1        0      False   32639   False\n",
        "['participant_id', 'interfaceId', 'interfaceOrder001', 'interfaceOrder002', 'setId', 'setOrder001', 'setOrder002', 'phaseId', 'sameParent', 'time', 'correct']\n"
       ]
      }
     ],
     "prompt_number": 105
    },
    {
     "cell_type": "code",
     "collapsed": false,
     "input": [
      "max(list((mturk_data['time'])))"
     ],
     "language": "python",
     "metadata": {},
     "outputs": [
      {
       "metadata": {},
       "output_type": "pyout",
       "prompt_number": 106,
       "text": [
        "217605.0"
       ]
      }
     ],
     "prompt_number": 106
    },
    {
     "cell_type": "code",
     "collapsed": false,
     "input": [
      "times = list((mturk_data['time']))\n",
      "# times2 = [x for x in times if x < 10000]\n",
      "plt.hist(times, bins=20)\n",
      "plt.plot()"
     ],
     "language": "python",
     "metadata": {},
     "outputs": [
      {
       "ename": "AttributeError",
       "evalue": "max must be larger than min in range parameter.",
       "output_type": "pyerr",
       "traceback": [
        "\u001b[0;31m---------------------------------------------------------------------------\u001b[0m\n\u001b[0;31mAttributeError\u001b[0m                            Traceback (most recent call last)",
        "\u001b[0;32m<ipython-input-107-f99a3eb801d0>\u001b[0m in \u001b[0;36m<module>\u001b[0;34m()\u001b[0m\n\u001b[1;32m      1\u001b[0m \u001b[0mtimes\u001b[0m \u001b[0;34m=\u001b[0m \u001b[0mlist\u001b[0m\u001b[0;34m(\u001b[0m\u001b[0;34m(\u001b[0m\u001b[0mmturk_data\u001b[0m\u001b[0;34m[\u001b[0m\u001b[0;34m'time'\u001b[0m\u001b[0;34m]\u001b[0m\u001b[0;34m)\u001b[0m\u001b[0;34m)\u001b[0m\u001b[0;34m\u001b[0m\u001b[0m\n\u001b[1;32m      2\u001b[0m \u001b[0;31m# times2 = [x for x in times if x < 10000]\u001b[0m\u001b[0;34m\u001b[0m\u001b[0;34m\u001b[0m\u001b[0m\n\u001b[0;32m----> 3\u001b[0;31m \u001b[0mplt\u001b[0m\u001b[0;34m.\u001b[0m\u001b[0mhist\u001b[0m\u001b[0;34m(\u001b[0m\u001b[0mtimes\u001b[0m\u001b[0;34m,\u001b[0m \u001b[0mbins\u001b[0m\u001b[0;34m=\u001b[0m\u001b[0;36m20\u001b[0m\u001b[0;34m)\u001b[0m\u001b[0;34m\u001b[0m\u001b[0m\n\u001b[0m\u001b[1;32m      4\u001b[0m \u001b[0mplt\u001b[0m\u001b[0;34m.\u001b[0m\u001b[0mplot\u001b[0m\u001b[0;34m(\u001b[0m\u001b[0;34m)\u001b[0m\u001b[0;34m\u001b[0m\u001b[0m\n",
        "\u001b[0;32m/Users/jming/anaconda/lib/python2.7/site-packages/matplotlib/pyplot.pyc\u001b[0m in \u001b[0;36mhist\u001b[0;34m(x, bins, range, normed, weights, cumulative, bottom, histtype, align, orientation, rwidth, log, color, label, stacked, hold, **kwargs)\u001b[0m\n\u001b[1;32m   2825\u001b[0m                       \u001b[0mhisttype\u001b[0m\u001b[0;34m=\u001b[0m\u001b[0mhisttype\u001b[0m\u001b[0;34m,\u001b[0m \u001b[0malign\u001b[0m\u001b[0;34m=\u001b[0m\u001b[0malign\u001b[0m\u001b[0;34m,\u001b[0m \u001b[0morientation\u001b[0m\u001b[0;34m=\u001b[0m\u001b[0morientation\u001b[0m\u001b[0;34m,\u001b[0m\u001b[0;34m\u001b[0m\u001b[0m\n\u001b[1;32m   2826\u001b[0m                       \u001b[0mrwidth\u001b[0m\u001b[0;34m=\u001b[0m\u001b[0mrwidth\u001b[0m\u001b[0;34m,\u001b[0m \u001b[0mlog\u001b[0m\u001b[0;34m=\u001b[0m\u001b[0mlog\u001b[0m\u001b[0;34m,\u001b[0m \u001b[0mcolor\u001b[0m\u001b[0;34m=\u001b[0m\u001b[0mcolor\u001b[0m\u001b[0;34m,\u001b[0m \u001b[0mlabel\u001b[0m\u001b[0;34m=\u001b[0m\u001b[0mlabel\u001b[0m\u001b[0;34m,\u001b[0m\u001b[0;34m\u001b[0m\u001b[0m\n\u001b[0;32m-> 2827\u001b[0;31m                       stacked=stacked, **kwargs)\n\u001b[0m\u001b[1;32m   2828\u001b[0m         \u001b[0mdraw_if_interactive\u001b[0m\u001b[0;34m(\u001b[0m\u001b[0;34m)\u001b[0m\u001b[0;34m\u001b[0m\u001b[0m\n\u001b[1;32m   2829\u001b[0m     \u001b[0;32mfinally\u001b[0m\u001b[0;34m:\u001b[0m\u001b[0;34m\u001b[0m\u001b[0m\n",
        "\u001b[0;32m/Users/jming/anaconda/lib/python2.7/site-packages/matplotlib/axes.pyc\u001b[0m in \u001b[0;36mhist\u001b[0;34m(self, x, bins, range, normed, weights, cumulative, bottom, histtype, align, orientation, rwidth, log, color, label, stacked, **kwargs)\u001b[0m\n\u001b[1;32m   8324\u001b[0m             \u001b[0;31m# this will automatically overwrite bins,\u001b[0m\u001b[0;34m\u001b[0m\u001b[0;34m\u001b[0m\u001b[0m\n\u001b[1;32m   8325\u001b[0m             \u001b[0;31m# so that each histogram uses the same bins\u001b[0m\u001b[0;34m\u001b[0m\u001b[0;34m\u001b[0m\u001b[0m\n\u001b[0;32m-> 8326\u001b[0;31m             \u001b[0mm\u001b[0m\u001b[0;34m,\u001b[0m \u001b[0mbins\u001b[0m \u001b[0;34m=\u001b[0m \u001b[0mnp\u001b[0m\u001b[0;34m.\u001b[0m\u001b[0mhistogram\u001b[0m\u001b[0;34m(\u001b[0m\u001b[0mx\u001b[0m\u001b[0;34m[\u001b[0m\u001b[0mi\u001b[0m\u001b[0;34m]\u001b[0m\u001b[0;34m,\u001b[0m \u001b[0mbins\u001b[0m\u001b[0;34m,\u001b[0m \u001b[0mweights\u001b[0m\u001b[0;34m=\u001b[0m\u001b[0mw\u001b[0m\u001b[0;34m[\u001b[0m\u001b[0mi\u001b[0m\u001b[0;34m]\u001b[0m\u001b[0;34m,\u001b[0m \u001b[0;34m**\u001b[0m\u001b[0mhist_kwargs\u001b[0m\u001b[0;34m)\u001b[0m\u001b[0;34m\u001b[0m\u001b[0m\n\u001b[0m\u001b[1;32m   8327\u001b[0m             \u001b[0mm\u001b[0m \u001b[0;34m=\u001b[0m \u001b[0mm\u001b[0m\u001b[0;34m.\u001b[0m\u001b[0mastype\u001b[0m\u001b[0;34m(\u001b[0m\u001b[0mfloat\u001b[0m\u001b[0;34m)\u001b[0m \u001b[0;31m# causes problems later if it's an int\u001b[0m\u001b[0;34m\u001b[0m\u001b[0m\n\u001b[1;32m   8328\u001b[0m             \u001b[0;32mif\u001b[0m \u001b[0mmlast\u001b[0m \u001b[0;32mis\u001b[0m \u001b[0mNone\u001b[0m\u001b[0;34m:\u001b[0m\u001b[0;34m\u001b[0m\u001b[0m\n",
        "\u001b[0;32m/Users/jming/anaconda/lib/python2.7/site-packages/numpy/lib/function_base.pyc\u001b[0m in \u001b[0;36mhistogram\u001b[0;34m(a, bins, range, normed, weights, density)\u001b[0m\n\u001b[1;32m    158\u001b[0m         \u001b[0;32mif\u001b[0m \u001b[0;34m(\u001b[0m\u001b[0mmn\u001b[0m \u001b[0;34m>\u001b[0m \u001b[0mmx\u001b[0m\u001b[0;34m)\u001b[0m\u001b[0;34m:\u001b[0m\u001b[0;34m\u001b[0m\u001b[0m\n\u001b[1;32m    159\u001b[0m             raise AttributeError(\n\u001b[0;32m--> 160\u001b[0;31m                 'max must be larger than min in range parameter.')\n\u001b[0m\u001b[1;32m    161\u001b[0m \u001b[0;34m\u001b[0m\u001b[0m\n\u001b[1;32m    162\u001b[0m     \u001b[0;32mif\u001b[0m \u001b[0;32mnot\u001b[0m \u001b[0miterable\u001b[0m\u001b[0;34m(\u001b[0m\u001b[0mbins\u001b[0m\u001b[0;34m)\u001b[0m\u001b[0;34m:\u001b[0m\u001b[0;34m\u001b[0m\u001b[0m\n",
        "\u001b[0;31mAttributeError\u001b[0m: max must be larger than min in range parameter."
       ]
      },
      {
       "metadata": {},
       "output_type": "display_data",
       "png": "[encoded data removed]",
       "text": [
        "<matplotlib.figure.Figure at 0x1072d9250>"
       ]
      }
     ],
     "prompt_number": 107
    },
    {
     "cell_type": "code",
     "collapsed": false,
     "input": [
      "mturk_grouped = mturk_data.groupby('participant_id')\n",
      "print mturk_grouped.head()"
     ],
     "language": "python",
     "metadata": {},
     "outputs": [
      {
       "output_type": "stream",
       "stream": "stdout",
       "text": [
        "<class 'pandas.core.frame.DataFrame'>\n",
        "MultiIndex: 70 entries, (1.0, 0) to (14.0, 1408)\n",
        "Data columns (total 11 columns):\n",
        "participant_id       70  non-null values\n",
        "interfaceId          70  non-null values\n",
        "interfaceOrder001    70  non-null values\n",
        "interfaceOrder002    70  non-null values\n",
        "setId                70  non-null values\n",
        "setOrder001          70  non-null values\n",
        "setOrder002          70  non-null values\n",
        "phaseId              70  non-null values\n",
        "sameParent           70  non-null values\n",
        "time                 70  non-null values\n",
        "correct              70  non-null values\n",
        "dtypes: float64(9), object(2)\n"
       ]
      }
     ],
     "prompt_number": 108
    },
    {
     "cell_type": "code",
     "collapsed": false,
     "input": [],
     "language": "python",
     "metadata": {},
     "outputs": [],
     "prompt_number": 101
    },
    {
     "cell_type": "code",
     "collapsed": false,
     "input": [
      "def average(lst):\n",
      "    if lst:\n",
      "        return float(sum(lst))/len(lst)\n",
      "    else:\n",
      "        return 0."
     ],
     "language": "python",
     "metadata": {},
     "outputs": [],
     "prompt_number": 95
    },
    {
     "cell_type": "code",
     "collapsed": false,
     "input": [
      "participants = []\n",
      "\n",
      "for participant,group in mturk_grouped:\n",
      "   \n",
      "    time_cm = []\n",
      "    time_r = []\n",
      "    time_cm_diff = []\n",
      "    time_cm_same = []\n",
      "    time_r_diff = []\n",
      "    time_r_same = []\n",
      "    error_cm = 0\n",
      "    error_r = 0\n",
      "    excluded = 0\n",
      "    \n",
      "    for index,row in group.iterrows():\n",
      "        \n",
      "        if row['phaseId'] != 0:\n",
      "            if row['time'] < 7000:\n",
      "            \n",
      "                if row['interfaceId'] == 0:\n",
      "                    time_r.append(row['time'])\n",
      "                    if row['sameParent']:\n",
      "                        time_r_same.append(row['time'])\n",
      "                    else:\n",
      "                        time_r_diff.append(row['time'])\n",
      "                    if not row['correct']:\n",
      "                        error_r += 1\n",
      "                else:\n",
      "                    time_cm.append(row['time'])\n",
      "                    if row['sameParent']:\n",
      "                        time_cm_same.append(row['time'])\n",
      "                    else:\n",
      "                        time_cm_diff.append(row['time'])\n",
      "                    if not row['correct']:\n",
      "                        error_cm += 1\n",
      "            else:\n",
      "                excluded += 1\n",
      "        \n",
      "    participants.append([participant, average(time_cm), average(time_r), average(time_cm_diff), average(time_cm_same), average(time_r_diff), average(time_r_same), error_cm, error_r, excluded])\n",
      "    \n",
      "print participants\n",
      "mturk_participants = pd.DataFrame.from_dict(participants)\n",
      "\n",
      "mturk_participants.head()\n",
      "        \n",
      "            "
     ],
     "language": "python",
     "metadata": {},
     "outputs": [
      {
       "output_type": "stream",
       "stream": "stdout",
       "text": [
        "[[1.0, 3510.970588235294, 5340.083333333333, 3466.1304347826085, 3604.7272727272725, 5666.35294117647, 4547.714285714285, 1, 1, 14], [2.0, 1611.5, 2421.470588235294, 1595.655172413793, 1677.142857142857, 2682.269230769231, 1573.875, 0, 1, 2], [3.0, 2460.1388888888887, 3844.878787878788, 2488.72, 2395.181818181818, 4540.826086956522, 2244.2, 0, 1, 3], [4.0, 2489.4444444444443, 3754.3333333333335, 2491.740740740741, 2482.5555555555557, 4039.0, 2331.0, 1, 0, 0], [5.0, 2011.857142857143, 3180.125, 1900.142857142857, 2458.714285714286, 3608.235294117647, 2140.4285714285716, 1, 1, 13], [6.0, 2122.1388888888887, 3002.25, 2195.259259259259, 1902.7777777777778, 3254.7241379310344, 1956.2857142857142, 0, 1, 0], [7.0, 2209.527777777778, 3009.722222222222, 2065.285714285714, 2714.375, 3441.230769230769, 1887.8, 1, 2, 0], [8.0, 1724.1666666666667, 2365.8333333333335, 1648.5555555555557, 1951.0, 2755.2, 1480.909090909091, 0, 1, 0], [9.0, 2193.1944444444443, 3745.057142857143, 2252.75, 1984.75, 4018.310344827586, 2424.3333333333335, 0, 1, 1], [10.0, 1411.4166666666667, 1796.6944444444443, 1407.0714285714287, 1426.625, 2001.6666666666667, 1181.7777777777778, 1, 2, 0], [11.0, 2498.027777777778, 3748.823529411765, 2443.103448275862, 2725.5714285714284, 4210.92, 2465.222222222222, 1, 3, 2], [12.0, 2173.222222222222, 2998.6666666666665, 2213.230769230769, 2069.2, 3451.48, 1969.5454545454545, 0, 2, 0], [13.0, 2461.3333333333335, 3035.8, 2641.8076923076924, 1992.1, 3291.962962962963, 2171.25, 0, 0, 1], [14.0, 2021.8055555555557, 3408.885714285714, 2039.607142857143, 1959.5, 3688.962962962963, 2463.625, 1, 5, 1]]\n"
       ]
      },
      {
       "html": [
        "<div style=\"max-height:1000px;max-width:1500px;overflow:auto;\">\n",
        "<table border=\"1\" class=\"dataframe\">\n",
        "  <thead>\n",
        "    <tr style=\"text-align: right;\">\n",
        "      <th></th>\n",
        "      <th>0</th>\n",
        "      <th>1</th>\n",
        "      <th>2</th>\n",
        "      <th>3</th>\n",
        "      <th>4</th>\n",
        "      <th>5</th>\n",
        "      <th>6</th>\n",
        "      <th>7</th>\n",
        "      <th>8</th>\n",
        "      <th>9</th>\n",
        "    </tr>\n",
        "  </thead>\n",
        "  <tbody>\n",
        "    <tr>\n",
        "      <th>0</th>\n",
        "      <td> 1</td>\n",
        "      <td> 3510.970588</td>\n",
        "      <td> 5340.083333</td>\n",
        "      <td> 3466.130435</td>\n",
        "      <td> 3604.727273</td>\n",
        "      <td> 5666.352941</td>\n",
        "      <td> 4547.714286</td>\n",
        "      <td> 1</td>\n",
        "      <td> 1</td>\n",
        "      <td> 14</td>\n",
        "    </tr>\n",
        "    <tr>\n",
        "      <th>1</th>\n",
        "      <td> 2</td>\n",
        "      <td> 1611.500000</td>\n",
        "      <td> 2421.470588</td>\n",
        "      <td> 1595.655172</td>\n",
        "      <td> 1677.142857</td>\n",
        "      <td> 2682.269231</td>\n",
        "      <td> 1573.875000</td>\n",
        "      <td> 0</td>\n",
        "      <td> 1</td>\n",
        "      <td>  2</td>\n",
        "    </tr>\n",
        "    <tr>\n",
        "      <th>2</th>\n",
        "      <td> 3</td>\n",
        "      <td> 2460.138889</td>\n",
        "      <td> 3844.878788</td>\n",
        "      <td> 2488.720000</td>\n",
        "      <td> 2395.181818</td>\n",
        "      <td> 4540.826087</td>\n",
        "      <td> 2244.200000</td>\n",
        "      <td> 0</td>\n",
        "      <td> 1</td>\n",
        "      <td>  3</td>\n",
        "    </tr>\n",
        "    <tr>\n",
        "      <th>3</th>\n",
        "      <td> 4</td>\n",
        "      <td> 2489.444444</td>\n",
        "      <td> 3754.333333</td>\n",
        "      <td> 2491.740741</td>\n",
        "      <td> 2482.555556</td>\n",
        "      <td> 4039.000000</td>\n",
        "      <td> 2331.000000</td>\n",
        "      <td> 1</td>\n",
        "      <td> 0</td>\n",
        "      <td>  0</td>\n",
        "    </tr>\n",
        "    <tr>\n",
        "      <th>4</th>\n",
        "      <td> 5</td>\n",
        "      <td> 2011.857143</td>\n",
        "      <td> 3180.125000</td>\n",
        "      <td> 1900.142857</td>\n",
        "      <td> 2458.714286</td>\n",
        "      <td> 3608.235294</td>\n",
        "      <td> 2140.428571</td>\n",
        "      <td> 1</td>\n",
        "      <td> 1</td>\n",
        "      <td> 13</td>\n",
        "    </tr>\n",
        "  </tbody>\n",
        "</table>\n",
        "</div>"
       ],
       "metadata": {},
       "output_type": "pyout",
       "prompt_number": 109,
       "text": [
        "   0            1            2            3            4            5            6  7  8   9\n",
        "0  1  3510.970588  5340.083333  3466.130435  3604.727273  5666.352941  4547.714286  1  1  14\n",
        "1  2  1611.500000  2421.470588  1595.655172  1677.142857  2682.269231  1573.875000  0  1   2\n",
        "2  3  2460.138889  3844.878788  2488.720000  2395.181818  4540.826087  2244.200000  0  1   3\n",
        "3  4  2489.444444  3754.333333  2491.740741  2482.555556  4039.000000  2331.000000  1  0   0\n",
        "4  5  2011.857143  3180.125000  1900.142857  2458.714286  3608.235294  2140.428571  1  1  13"
       ]
      }
     ],
     "prompt_number": 109
    },
    {
     "cell_type": "code",
     "collapsed": false,
     "input": [
      "mturk_participants.to_csv('mturk_summary.csv')"
     ],
     "language": "python",
     "metadata": {},
     "outputs": [],
     "prompt_number": 110
    },
    {
     "cell_type": "code",
     "collapsed": false,
     "input": [
      "all_data = pd.DataFrame.from_csv('exploration.csv')\n",
      "print all_data.head()"
     ],
     "language": "python",
     "metadata": {},
     "outputs": [
      {
       "output_type": "stream",
       "stream": "stdout",
       "text": [
        "            type of trial  order      time-cm       time-r  time-cm-diff  time-cm-same  time-r-diff  time-r-same  error-cm  error-r  excluded\n",
        "participant                                                                                                                                  \n",
        "p01             in person  cm, r  1969.194444  3051.111111   1965.206897   1985.714286  3340.033333  1606.500000         0        2         0\n",
        "p02             in person  r, cm  1971.777778  3176.194444   1993.560000   1922.272727  3346.965517  2468.714286         1        4         0\n",
        "p03             in person  r, cm  2227.361111  3226.031250   2296.416667   2089.250000  3608.909091  2383.700000         4        5         0\n",
        "p04             in person  cm, r  2219.200000  2659.911111   2256.179104   2111.478261  2938.739130  1743.761905         1        2         0\n",
        "p05             in person  r, cm  1719.000000  2545.500000   1818.680000   1492.454545  2693.709677  1626.600000         4        2         0\n"
       ]
      }
     ],
     "prompt_number": 111
    },
    {
     "cell_type": "code",
     "collapsed": false,
     "input": [
      "all_data_stacked = []\n",
      "\n"
     ],
     "language": "python",
     "metadata": {},
     "outputs": []
    }
   ],
   "metadata": {}
  }
 ]
}
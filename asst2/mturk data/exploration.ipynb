{
 "metadata": {
  "name": ""
 },
 "nbformat": 3,
 "nbformat_minor": 0,
 "worksheets": [
  {
   "cells": [
    {
     "cell_type": "code",
     "collapsed": false,
     "input": [
      "%matplotlib inline\n",
      "\n",
      "import json\n",
      "\n",
      "import requests\n",
      "import pandas as pd\n",
      "import numpy as np\n",
      "import matplotlib.pyplot as plt\n",
      "# import statistics\n",
      "\n",
      "pd.set_option('display.width', 500)\n",
      "pd.set_option('display.max_columns', 30)\n",
      "\n",
      "# set some nicer defaults for matplotlib\n",
      "from matplotlib import rcParams\n",
      "\n",
      "#these colors come from colorbrewer2.org. Each is an RGB triplet\n",
      "dark2_colors = [(0.10588235294117647, 0.6196078431372549, 0.4666666666666667),\n",
      "                (0.8509803921568627, 0.37254901960784315, 0.00784313725490196),\n",
      "                (0.4588235294117647, 0.4392156862745098, 0.7019607843137254),\n",
      "                (0.9058823529411765, 0.1607843137254902, 0.5411764705882353),\n",
      "                (0.4, 0.6509803921568628, 0.11764705882352941),\n",
      "                (0.9019607843137255, 0.6705882352941176, 0.00784313725490196),\n",
      "                (0.6509803921568628, 0.4627450980392157, 0.11372549019607843),\n",
      "                (0.4, 0.4, 0.4)]\n",
      "\n",
      "rcParams['figure.figsize'] = (10, 6)\n",
      "rcParams['figure.dpi'] = 150\n",
      "rcParams['axes.color_cycle'] = dark2_colors\n",
      "rcParams['lines.linewidth'] = 2\n",
      "rcParams['axes.grid'] = False\n",
      "rcParams['axes.facecolor'] = 'white'\n",
      "rcParams['font.size'] = 14\n",
      "rcParams['patch.edgecolor'] = 'none'\n",
      "\n",
      "\n",
      "def remove_border(axes=None, top=False, right=False, left=True, bottom=True):\n",
      "    \"\"\"\n",
      "    Minimize chartjunk by stripping out unnecesary plot borders and axis ticks\n",
      "    \n",
      "    The top/right/left/bottom keywords toggle whether the corresponding plot border is drawn\n",
      "    \"\"\"\n",
      "    ax = axes or plt.gca()\n",
      "    ax.spines['top'].set_visible(top)\n",
      "    ax.spines['right'].set_visible(right)\n",
      "    ax.spines['left'].set_visible(left)\n",
      "    ax.spines['bottom'].set_visible(bottom)\n",
      "    \n",
      "    #turn off all ticks\n",
      "    ax.yaxis.set_ticks_position('none')\n",
      "    ax.xaxis.set_ticks_position('none')\n",
      "    \n",
      "    #now re-enable visibles\n",
      "    if top:\n",
      "        ax.xaxis.tick_top()\n",
      "    if bottom:\n",
      "        ax.xaxis.tick_bottom()\n",
      "    if left:\n",
      "        ax.yaxis.tick_left()\n",
      "    if right:\n",
      "        ax.yaxis.tick_right()"
     ],
     "language": "python",
     "metadata": {},
     "outputs": [],
     "prompt_number": 119
    },
    {
     "cell_type": "code",
     "collapsed": false,
     "input": [
      "def read_csv(file_path):\n",
      "    return pd.read_csv(file_path)"
     ],
     "language": "python",
     "metadata": {},
     "outputs": [],
     "prompt_number": 103
    },
    {
     "cell_type": "code",
     "collapsed": false,
     "input": [
      "mturk_data = read_csv('mturk_data.csv')\n",
      "print mturk_data.head()\n",
      "print list(mturk_data.columns.values)"
     ],
     "language": "python",
     "metadata": {},
     "outputs": [
      {
       "output_type": "stream",
       "stream": "stdout",
       "text": [
        "   participant_id  interfaceId  interfaceOrder001  interfaceOrder002  setId  setOrder001  setOrder002  phaseId sameParent    time correct\n",
        "0               1            0                  0                  1      0            0            1        0      False   18247    True\n",
        "1               1            0                  0                  1      0            0            1        0      False   49240    True\n",
        "2               1            0                  0                  1      0            0            1        0      False  217605   False\n",
        "3               1            0                  0                  1      0            0            1        0       True   13449   False\n",
        "4               1            0                  0                  1      0            0            1        0      False   32639   False\n",
        "['participant_id', 'interfaceId', 'interfaceOrder001', 'interfaceOrder002', 'setId', 'setOrder001', 'setOrder002', 'phaseId', 'sameParent', 'time', 'correct']\n"
       ]
      }
     ],
     "prompt_number": 105
    },
    {
     "cell_type": "code",
     "collapsed": false,
     "input": [
      "mturk_grouped = mturk_data.groupby('participant_id')\n",
      "print mturk_grouped.head()"
     ],
     "language": "python",
     "metadata": {},
     "outputs": [
      {
       "output_type": "stream",
       "stream": "stdout",
       "text": [
        "<class 'pandas.core.frame.DataFrame'>\n",
        "MultiIndex: 70 entries, (1.0, 0) to (14.0, 1408)\n",
        "Data columns (total 11 columns):\n",
        "participant_id       70  non-null values\n",
        "interfaceId          70  non-null values\n",
        "interfaceOrder001    70  non-null values\n",
        "interfaceOrder002    70  non-null values\n",
        "setId                70  non-null values\n",
        "setOrder001          70  non-null values\n",
        "setOrder002          70  non-null values\n",
        "phaseId              70  non-null values\n",
        "sameParent           70  non-null values\n",
        "time                 70  non-null values\n",
        "correct              70  non-null values\n",
        "dtypes: float64(9), object(2)\n"
       ]
      }
     ],
     "prompt_number": 108
    },
    {
     "cell_type": "code",
     "collapsed": false,
     "input": [],
     "language": "python",
     "metadata": {},
     "outputs": [],
     "prompt_number": 101
    },
    {
     "cell_type": "code",
     "collapsed": false,
     "input": [
      "def average(lst):\n",
      "    if lst:\n",
      "        return float(sum(lst))/len(lst)\n",
      "    else:\n",
      "        return 0."
     ],
     "language": "python",
     "metadata": {},
     "outputs": [],
     "prompt_number": 95
    },
    {
     "cell_type": "code",
     "collapsed": false,
     "input": [
      "participants = []\n",
      "\n",
      "for participant,group in mturk_grouped:\n",
      "   \n",
      "    time_cm = []\n",
      "    time_r = []\n",
      "    time_cm_diff = []\n",
      "    time_cm_same = []\n",
      "    time_r_diff = []\n",
      "    time_r_same = []\n",
      "    error_cm = 0\n",
      "    error_r = 0\n",
      "    excluded = 0\n",
      "    \n",
      "    for index,row in group.iterrows():\n",
      "        \n",
      "        if row['phaseId'] != 0:\n",
      "            if row['time'] < 7000:\n",
      "            \n",
      "                if row['interfaceId'] == 0:\n",
      "                    time_r.append(row['time'])\n",
      "                    if row['sameParent']:\n",
      "                        time_r_same.append(row['time'])\n",
      "                    else:\n",
      "                        time_r_diff.append(row['time'])\n",
      "                    if not row['correct']:\n",
      "                        error_r += 1\n",
      "                else:\n",
      "                    time_cm.append(row['time'])\n",
      "                    if row['sameParent']:\n",
      "                        time_cm_same.append(row['time'])\n",
      "                    else:\n",
      "                        time_cm_diff.append(row['time'])\n",
      "                    if not row['correct']:\n",
      "                        error_cm += 1\n",
      "            else:\n",
      "                excluded += 1\n",
      "    \n",
      "    participants.append([participant, average(time_cm), average(time_r), average(time_cm_diff), average(time_cm_same), average(time_r_diff), average(time_r_same), error_cm, error_r, excluded])\n",
      "    \n",
      "print participants\n",
      "mturk_participants = pd.DataFrame.from_dict(participants)\n",
      "\n",
      "mturk_participants.head()\n",
      "        \n",
      "            "
     ],
     "language": "python",
     "metadata": {},
     "outputs": [
      {
       "output_type": "stream",
       "stream": "stdout",
       "text": [
        "[[1.0, 3510.970588235294, 5340.083333333333, 3466.1304347826085, 3604.7272727272725, 5666.35294117647, 4547.714285714285, 1, 1, 14], [2.0, 1611.5, 2421.470588235294, 1595.655172413793, 1677.142857142857, 2682.269230769231, 1573.875, 0, 1, 2], [3.0, 2460.1388888888887, 3844.878787878788, 2488.72, 2395.181818181818, 4540.826086956522, 2244.2, 0, 1, 3], [4.0, 2489.4444444444443, 3754.3333333333335, 2491.740740740741, 2482.5555555555557, 4039.0, 2331.0, 1, 0, 0], [5.0, 2011.857142857143, 3180.125, 1900.142857142857, 2458.714285714286, 3608.235294117647, 2140.4285714285716, 1, 1, 13], [6.0, 2122.1388888888887, 3002.25, 2195.259259259259, 1902.7777777777778, 3254.7241379310344, 1956.2857142857142, 0, 1, 0], [7.0, 2209.527777777778, 3009.722222222222, 2065.285714285714, 2714.375, 3441.230769230769, 1887.8, 1, 2, 0], [8.0, 1724.1666666666667, 2365.8333333333335, 1648.5555555555557, 1951.0, 2755.2, 1480.909090909091, 0, 1, 0], [9.0, 2193.1944444444443, 3745.057142857143, 2252.75, 1984.75, 4018.310344827586, 2424.3333333333335, 0, 1, 1], [10.0, 1411.4166666666667, 1796.6944444444443, 1407.0714285714287, 1426.625, 2001.6666666666667, 1181.7777777777778, 1, 2, 0], [11.0, 2498.027777777778, 3748.823529411765, 2443.103448275862, 2725.5714285714284, 4210.92, 2465.222222222222, 1, 3, 2], [12.0, 2173.222222222222, 2998.6666666666665, 2213.230769230769, 2069.2, 3451.48, 1969.5454545454545, 0, 2, 0], [13.0, 2461.3333333333335, 3035.8, 2641.8076923076924, 1992.1, 3291.962962962963, 2171.25, 0, 0, 1], [14.0, 2021.8055555555557, 3408.885714285714, 2039.607142857143, 1959.5, 3688.962962962963, 2463.625, 1, 5, 1]]\n"
       ]
      },
      {
       "html": [
        "<div style=\"max-height:1000px;max-width:1500px;overflow:auto;\">\n",
        "<table border=\"1\" class=\"dataframe\">\n",
        "  <thead>\n",
        "    <tr style=\"text-align: right;\">\n",
        "      <th></th>\n",
        "      <th>0</th>\n",
        "      <th>1</th>\n",
        "      <th>2</th>\n",
        "      <th>3</th>\n",
        "      <th>4</th>\n",
        "      <th>5</th>\n",
        "      <th>6</th>\n",
        "      <th>7</th>\n",
        "      <th>8</th>\n",
        "      <th>9</th>\n",
        "    </tr>\n",
        "  </thead>\n",
        "  <tbody>\n",
        "    <tr>\n",
        "      <th>0</th>\n",
        "      <td> 1</td>\n",
        "      <td> 3510.970588</td>\n",
        "      <td> 5340.083333</td>\n",
        "      <td> 3466.130435</td>\n",
        "      <td> 3604.727273</td>\n",
        "      <td> 5666.352941</td>\n",
        "      <td> 4547.714286</td>\n",
        "      <td> 1</td>\n",
        "      <td> 1</td>\n",
        "      <td> 14</td>\n",
        "    </tr>\n",
        "    <tr>\n",
        "      <th>1</th>\n",
        "      <td> 2</td>\n",
        "      <td> 1611.500000</td>\n",
        "      <td> 2421.470588</td>\n",
        "      <td> 1595.655172</td>\n",
        "      <td> 1677.142857</td>\n",
        "      <td> 2682.269231</td>\n",
        "      <td> 1573.875000</td>\n",
        "      <td> 0</td>\n",
        "      <td> 1</td>\n",
        "      <td>  2</td>\n",
        "    </tr>\n",
        "    <tr>\n",
        "      <th>2</th>\n",
        "      <td> 3</td>\n",
        "      <td> 2460.138889</td>\n",
        "      <td> 3844.878788</td>\n",
        "      <td> 2488.720000</td>\n",
        "      <td> 2395.181818</td>\n",
        "      <td> 4540.826087</td>\n",
        "      <td> 2244.200000</td>\n",
        "      <td> 0</td>\n",
        "      <td> 1</td>\n",
        "      <td>  3</td>\n",
        "    </tr>\n",
        "    <tr>\n",
        "      <th>3</th>\n",
        "      <td> 4</td>\n",
        "      <td> 2489.444444</td>\n",
        "      <td> 3754.333333</td>\n",
        "      <td> 2491.740741</td>\n",
        "      <td> 2482.555556</td>\n",
        "      <td> 4039.000000</td>\n",
        "      <td> 2331.000000</td>\n",
        "      <td> 1</td>\n",
        "      <td> 0</td>\n",
        "      <td>  0</td>\n",
        "    </tr>\n",
        "    <tr>\n",
        "      <th>4</th>\n",
        "      <td> 5</td>\n",
        "      <td> 2011.857143</td>\n",
        "      <td> 3180.125000</td>\n",
        "      <td> 1900.142857</td>\n",
        "      <td> 2458.714286</td>\n",
        "      <td> 3608.235294</td>\n",
        "      <td> 2140.428571</td>\n",
        "      <td> 1</td>\n",
        "      <td> 1</td>\n",
        "      <td> 13</td>\n",
        "    </tr>\n",
        "  </tbody>\n",
        "</table>\n",
        "</div>"
       ],
       "metadata": {},
       "output_type": "pyout",
       "prompt_number": 109,
       "text": [
        "   0            1            2            3            4            5            6  7  8   9\n",
        "0  1  3510.970588  5340.083333  3466.130435  3604.727273  5666.352941  4547.714286  1  1  14\n",
        "1  2  1611.500000  2421.470588  1595.655172  1677.142857  2682.269231  1573.875000  0  1   2\n",
        "2  3  2460.138889  3844.878788  2488.720000  2395.181818  4540.826087  2244.200000  0  1   3\n",
        "3  4  2489.444444  3754.333333  2491.740741  2482.555556  4039.000000  2331.000000  1  0   0\n",
        "4  5  2011.857143  3180.125000  1900.142857  2458.714286  3608.235294  2140.428571  1  1  13"
       ]
      }
     ],
     "prompt_number": 109
    },
    {
     "cell_type": "code",
     "collapsed": false,
     "input": [
      "mturk_participants.to_csv('mturk_summary.csv')"
     ],
     "language": "python",
     "metadata": {},
     "outputs": [],
     "prompt_number": 110
    },
    {
     "cell_type": "code",
     "collapsed": false,
     "input": [
      "all_data = pd.read_csv('exploration.csv')\n",
      "print all_data.head()"
     ],
     "language": "python",
     "metadata": {},
     "outputs": [
      {
       "output_type": "stream",
       "stream": "stdout",
       "text": [
        "  participant type of trial  order      time-cm       time-r  time-cm-diff  time-cm-same  time-r-diff  time-r-same  error-cm  error-r  excluded\n",
        "0         p01     in person  cm, r  1969.194444  3051.111111   1965.206897   1985.714286  3340.033333  1606.500000         0        2         0\n",
        "1         p02     in person  r, cm  1971.777778  3176.194444   1993.560000   1922.272727  3346.965517  2468.714286         1        4         0\n",
        "2         p03     in person  r, cm  2227.361111  3226.031250   2296.416667   2089.250000  3608.909091  2383.700000         4        5         0\n",
        "3         p04     in person  cm, r  2219.200000  2659.911111   2256.179104   2111.478261  2938.739130  1743.761905         1        2         0\n",
        "4         p05     in person  r, cm  1719.000000  2545.500000   1818.680000   1492.454545  2693.709677  1626.600000         4        2         0\n"
       ]
      }
     ],
     "prompt_number": 115
    },
    {
     "cell_type": "code",
     "collapsed": false,
     "input": [
      "print list(all_data.columns.values)"
     ],
     "language": "python",
     "metadata": {},
     "outputs": [
      {
       "output_type": "stream",
       "stream": "stdout",
       "text": [
        "['participant', 'type of trial', 'order', 'time-cm', 'time-r', 'time-cm-diff', 'time-cm-same', 'time-r-diff', 'time-r-same', 'error-cm', 'error-r', 'excluded']\n"
       ]
      }
     ],
     "prompt_number": 116
    },
    {
     "cell_type": "code",
     "collapsed": false,
     "input": [
      "all_data_stacked = []\n",
      "# participant, type, order, interface, parent, time\n",
      "\n",
      "for index,row in all_data.iterrows():\n",
      "    all_data_stacked.append([row['participant'], row['type of trial'], row['order'], 'cm', 'diff', row['time-cm-diff']])\n",
      "    all_data_stacked.append([row['participant'], row['type of trial'], row['order'], 'cm', 'same', row['time-cm-same']])\n",
      "    all_data_stacked.append([row['participant'], row['type of trial'], row['order'], 'r', 'diff', row['time-r-diff']])\n",
      "    all_data_stacked.append([row['participant'], row['type of trial'], row['order'], 'r', 'same', row['time-r-same']])\n",
      "\n",
      "all_data_stacked_df = pd.DataFrame.from_dict(all_data_stacked)\n",
      "all_data_stacked_df.to_csv('data_stacked.csv')\n",
      "    "
     ],
     "language": "python",
     "metadata": {},
     "outputs": [],
     "prompt_number": 117
    },
    {
     "cell_type": "code",
     "collapsed": false,
     "input": [
      "def get_aggregate(file_name):\n",
      "    \n",
      "    data = pd.read_csv(file_name) \n",
      "    data_grouped = data.groupby('participant_id')\n",
      "    \n",
      "    time_cm_diff = []\n",
      "    time_cm_same = []\n",
      "    error_cm_diff = []\n",
      "    error_cm_same = []\n",
      "    \n",
      "    time_r_diff = []\n",
      "    time_r_same = []\n",
      "    error_r_diff = []\n",
      "    error_r_same = []\n",
      "    \n",
      "    for participant,group in data_grouped:\n",
      "        error_cm_same_p = 0.\n",
      "        error_cm_diff_p = 0.\n",
      "        error_r_same_p = 0.\n",
      "        error_r_diff_p = 0.\n",
      "        num_trials = 0.\n",
      "        for i,row in group.iterrows():\n",
      "            if row['phaseId'] != 0:\n",
      "                if row['time'] < 7000:\n",
      "                    num_trials += 1\n",
      "                    if row['interfaceId'] == 0:\n",
      "                        if row['correct']:\n",
      "                            if row['sameParent']:\n",
      "                                time_r_same.append(row['time'])\n",
      "                            else:\n",
      "                                time_r_diff.append(row['time'])\n",
      "                        else:\n",
      "                            if row['sameParent']:\n",
      "                                error_r_same_p += 1\n",
      "                            else:\n",
      "                                error_r_diff_p += 1\n",
      "                    else:\n",
      "                        if row['correct']:\n",
      "                            if row['sameParent']:\n",
      "                                time_cm_same.append(row['time'])\n",
      "                            else:\n",
      "                                time_cm_diff.append(row['time'])\n",
      "                        else:\n",
      "                            if row['sameParent']:\n",
      "                                error_cm_same_p += 1\n",
      "                            else:\n",
      "                                error_cm_diff_p += 1\n",
      "        error_cm_same.append(error_cm_same_p / num_trials)\n",
      "        error_r_same.append(error_r_same_p / num_trials)\n",
      "        error_cm_diff.append(error_cm_diff_p / num_trials)\n",
      "        error_r_diff.append(error_r_diff_p / num_trials)\n",
      "    \n",
      "    time_cm_diff = np.array(time_cm_diff)\n",
      "    time_r_diff = np.array(time_r_diff)\n",
      "    time_cm_same = np.array(time_cm_same)\n",
      "    time_r_same = np.array(time_r_same)\n",
      "    error_cm_diff = np.array(error_cm_diff)\n",
      "    error_cm_same = np.array(error_cm_same)\n",
      "    error_r_diff = np.array(error_r_diff)\n",
      "    error_r_same = np.array(error_r_same)\n",
      "    \n",
      "    print 'time_cm_diff', np.mean(time_cm_diff), np.std(time_cm_diff), len(time_cm_diff)\n",
      "    print 'time_cm_same', np.mean(time_cm_same), np.std(time_cm_same), len(time_cm_same)\n",
      "    print 'time_r_diff', np.mean(time_r_diff), np.std(time_r_diff), len(time_r_diff)\n",
      "    print 'time_r_same', np.mean(time_r_same), np.std(time_r_same), len(time_r_same)\n",
      "    \n",
      "    print 'error_cm_diff', np.mean(error_cm_diff), np.std(error_cm_diff), len(error_cm_diff)\n",
      "    print 'error_cm_same', np.mean(error_cm_same), np.std(error_cm_same), len(error_cm_same)\n",
      "    print 'error_r_diff', np.mean(error_r_diff), np.std(error_r_diff), len(error_r_diff)\n",
      "    print 'error_r_same', np.mean(error_r_same), np.std(error_r_same), len(error_r_same)"
     ],
     "language": "python",
     "metadata": {},
     "outputs": [],
     "prompt_number": 130
    },
    {
     "cell_type": "code",
     "collapsed": false,
     "input": [
      "get_aggregate('mturk_data.csv')"
     ],
     "language": "python",
     "metadata": {},
     "outputs": [
      {
       "output_type": "stream",
       "stream": "stdout",
       "text": [
        "time_cm_diff 2150.25935829 726.537348176 374\n",
        "time_cm_same 2252.75 841.657127834 120\n",
        "time_r_diff 3491.6257485 1135.45693435 334\n",
        "time_r_same 2084.33913043 853.814294919 115\n",
        "error_cm_diff 0.00522122511772 0.0070400615262 14\n",
        "error_cm_same 0.00222359058566 0.00548338675191 14\n",
        "error_r_diff 0.0192941721165 0.0155824602846 14\n",
        "error_r_same 0.0022375633109 0.00551326222565 14\n"
       ]
      }
     ],
     "prompt_number": 131
    },
    {
     "cell_type": "code",
     "collapsed": false,
     "input": [
      "get_aggregate('friend_data.csv')"
     ],
     "language": "python",
     "metadata": {},
     "outputs": [
      {
       "output_type": "stream",
       "stream": "stdout",
       "text": [
        "time_cm_diff 1862.16012085 504.041474681 331\n",
        "time_cm_same 1853.55172414 454.480156709 116\n",
        "time_r_diff 3034.06329114 840.566431862 316\n",
        "time_r_same 1849.29807692 557.996620472 104\n",
        "error_cm_diff 0.0130178506939 0.011746289547 13\n",
        "error_cm_same 0.0042735042735 0.00641025641026 13\n",
        "error_r_diff 0.0431305783418 0.0270288573485 13\n",
        "error_r_same 0.00433412440455 0.00650165244004 13\n"
       ]
      }
     ],
     "prompt_number": 132
    },
    {
     "cell_type": "code",
     "collapsed": false,
     "input": [
      "get_aggregate('person_data.csv')"
     ],
     "language": "python",
     "metadata": {},
     "outputs": [
      {
       "output_type": "stream",
       "stream": "stdout",
       "text": [
        "time_cm_diff 2023.21403509 660.580791621 285\n",
        "time_cm_same 2018.99038462 681.5012627 104\n",
        "time_r_diff 3057.3649635 935.145005157 274\n",
        "time_r_same 1901.73033708 536.155410223 89\n",
        "error_cm_diff 0.0260992096369 0.0194260169283 10\n",
        "error_cm_same 0.00277777777778 0.00833333333333 10\n",
        "error_r_diff 0.0603608908352 0.0300950603959 10\n",
        "error_r_same 0.00285947712418 0.0057218713382 10\n"
       ]
      }
     ],
     "prompt_number": 133
    },
    {
     "cell_type": "code",
     "collapsed": false,
     "input": [
      "def get_aggregate_all(file_names):\n",
      "    \n",
      "    time_cm_diff = []\n",
      "    time_cm_same = []\n",
      "    error_cm_diff = []\n",
      "    error_cm_same = []\n",
      "    \n",
      "    time_r_diff = []\n",
      "    time_r_same = []\n",
      "    error_r_diff = []\n",
      "    error_r_same = []\n",
      "    \n",
      "    for file_name in file_names:\n",
      "        data = pd.read_csv(file_name) \n",
      "        data_grouped = data.groupby('participant_id')\n",
      "    \n",
      "        for participant,group in data_grouped:\n",
      "            error_cm_same_p = 0.\n",
      "            error_cm_diff_p = 0.\n",
      "            error_r_same_p = 0.\n",
      "            error_r_diff_p = 0.\n",
      "            num_trials = 0.\n",
      "            for i,row in group.iterrows():\n",
      "                if row['phaseId'] != 0:\n",
      "                    if row['time'] < 7000:\n",
      "                        num_trials += 1\n",
      "                        if row['interfaceId'] == 0:\n",
      "                            if row['correct']:\n",
      "                                if row['sameParent']:\n",
      "                                    time_r_same.append(row['time'])\n",
      "                                else:\n",
      "                                    time_r_diff.append(row['time'])\n",
      "                            else:\n",
      "                                if row['sameParent']:\n",
      "                                    error_r_same_p += 1\n",
      "                                else:\n",
      "                                    error_r_diff_p += 1\n",
      "                        else:\n",
      "                            if row['correct']:\n",
      "                                if row['sameParent']:\n",
      "                                    time_cm_same.append(row['time'])\n",
      "                                else:\n",
      "                                    time_cm_diff.append(row['time'])\n",
      "                            else:\n",
      "                                if row['sameParent']:\n",
      "                                    error_cm_same_p += 1\n",
      "                                else:\n",
      "                                    error_cm_diff_p += 1\n",
      "            error_cm_same.append(error_cm_same_p / num_trials)\n",
      "            error_r_same.append(error_r_same_p / num_trials)\n",
      "            error_cm_diff.append(error_cm_diff_p / num_trials)\n",
      "            error_r_diff.append(error_r_diff_p / num_trials)\n",
      "    \n",
      "    time_cm_diff = np.array(time_cm_diff)\n",
      "    time_r_diff = np.array(time_r_diff)\n",
      "    time_cm_same = np.array(time_cm_same)\n",
      "    time_r_same = np.array(time_r_same)\n",
      "    error_cm_diff = np.array(error_cm_diff)\n",
      "    error_cm_same = np.array(error_cm_same)\n",
      "    error_r_diff = np.array(error_r_diff)\n",
      "    error_r_same = np.array(error_r_same)\n",
      "    \n",
      "    print 'time_cm_diff', np.mean(time_cm_diff), np.std(time_cm_diff), len(time_cm_diff)\n",
      "    print 'time_cm_same', np.mean(time_cm_same), np.std(time_cm_same), len(time_cm_same)\n",
      "    print 'time_r_diff', np.mean(time_r_diff), np.std(time_r_diff), len(time_r_diff)\n",
      "    print 'time_r_same', np.mean(time_r_same), np.std(time_r_same), len(time_r_same)\n",
      "    \n",
      "    print 'error_cm_diff', np.mean(error_cm_diff), np.std(error_cm_diff), len(error_cm_diff)\n",
      "    print 'error_cm_same', np.mean(error_cm_same), np.std(error_cm_same), len(error_cm_same)\n",
      "    print 'error_r_diff', np.mean(error_r_diff), np.std(error_r_diff), len(error_r_diff)\n",
      "    print 'error_r_same', np.mean(error_r_same), np.std(error_r_same), len(error_r_same)"
     ],
     "language": "python",
     "metadata": {},
     "outputs": [],
     "prompt_number": 134
    },
    {
     "cell_type": "code",
     "collapsed": false,
     "input": [
      "get_aggregate_all(['mturk_data.csv','person_data.csv','friend_data.csv'])"
     ],
     "language": "python",
     "metadata": {},
     "outputs": [
      {
       "output_type": "stream",
       "stream": "stdout",
       "text": [
        "time_cm_diff 2017.36161616 651.698871204 990\n",
        "time_cm_same 2045.05 700.356804338 340\n",
        "time_r_diff 3206.36904762 1006.54744059 924\n",
        "time_r_same 1952.20779221 686.456236489 308\n",
        "error_cm_diff 0.0136032785686 0.0154314673677 37\n",
        "error_cm_same 0.00309361085223 0.00673689003506 37\n",
        "error_r_diff 0.0387682388223 0.0294879473186 37\n",
        "error_r_same 0.00314227769874 0.00600269672714 37\n"
       ]
      }
     ],
     "prompt_number": 135
    },
    {
     "cell_type": "code",
     "collapsed": false,
     "input": [],
     "language": "python",
     "metadata": {},
     "outputs": []
    }
   ],
   "metadata": {}
  }
 ]
}